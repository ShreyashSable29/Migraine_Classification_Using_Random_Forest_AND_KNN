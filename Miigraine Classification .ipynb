{
 "cells": [
  {
   "cell_type": "markdown",
   "id": "ce480e6d",
   "metadata": {},
   "source": [
    "## Random Forest Classifier"
   ]
  },
  {
   "cell_type": "markdown",
   "id": "9f095b59",
   "metadata": {},
   "source": [
    "### Importing  libraries & dataset"
   ]
  },
  {
   "cell_type": "code",
   "execution_count": 1,
   "id": "bb07fef0",
   "metadata": {
    "scrolled": true
   },
   "outputs": [],
   "source": [
    "import pandas as pd\n",
    "import numpy as np\n",
    "from sklearn.model_selection import train_test_split\n",
    "from sklearn.ensemble import RandomForestClassifier\n",
    "from sklearn.neighbors import KNeighborsClassifier\n",
    "from sklearn.preprocessing import StandardScaler\n",
    "import matplotlib.pyplot as plt\n",
    "import seaborn as sns\n",
    "%matplotlib inline\n",
    "from sklearn.metrics import classification_report, accuracy_score\n",
    "import warnings\n",
    "warnings.filterwarnings(\"ignore\")"
   ]
  },
  {
   "cell_type": "code",
   "execution_count": 2,
   "id": "41af4726",
   "metadata": {},
   "outputs": [
    {
     "data": {
      "text/html": [
       "<div>\n",
       "<style scoped>\n",
       "    .dataframe tbody tr th:only-of-type {\n",
       "        vertical-align: middle;\n",
       "    }\n",
       "\n",
       "    .dataframe tbody tr th {\n",
       "        vertical-align: top;\n",
       "    }\n",
       "\n",
       "    .dataframe thead th {\n",
       "        text-align: right;\n",
       "    }\n",
       "</style>\n",
       "<table border=\"1\" class=\"dataframe\">\n",
       "  <thead>\n",
       "    <tr style=\"text-align: right;\">\n",
       "      <th></th>\n",
       "      <th>Age</th>\n",
       "      <th>Duration</th>\n",
       "      <th>Frequency</th>\n",
       "      <th>Location</th>\n",
       "      <th>Character</th>\n",
       "      <th>Intensity</th>\n",
       "      <th>Nausea</th>\n",
       "      <th>Vomit</th>\n",
       "      <th>Phonophobia</th>\n",
       "      <th>Photophobia</th>\n",
       "      <th>...</th>\n",
       "      <th>Tinnitus</th>\n",
       "      <th>Hypoacusis</th>\n",
       "      <th>Diplopia</th>\n",
       "      <th>Defect</th>\n",
       "      <th>Ataxia</th>\n",
       "      <th>Conscience</th>\n",
       "      <th>Paresthesia</th>\n",
       "      <th>DPF</th>\n",
       "      <th>Gender</th>\n",
       "      <th>Type</th>\n",
       "    </tr>\n",
       "  </thead>\n",
       "  <tbody>\n",
       "    <tr>\n",
       "      <th>0</th>\n",
       "      <td>31</td>\n",
       "      <td>2</td>\n",
       "      <td>5</td>\n",
       "      <td>North</td>\n",
       "      <td>1</td>\n",
       "      <td>3</td>\n",
       "      <td>1</td>\n",
       "      <td>1</td>\n",
       "      <td>1</td>\n",
       "      <td>1.0</td>\n",
       "      <td>...</td>\n",
       "      <td>0.0</td>\n",
       "      <td>0.0</td>\n",
       "      <td>0.0</td>\n",
       "      <td>0.0</td>\n",
       "      <td>0</td>\n",
       "      <td>0.0</td>\n",
       "      <td>0</td>\n",
       "      <td>1</td>\n",
       "      <td>Male</td>\n",
       "      <td>Migraine without aura</td>\n",
       "    </tr>\n",
       "    <tr>\n",
       "      <th>1</th>\n",
       "      <td>30</td>\n",
       "      <td>1</td>\n",
       "      <td>5</td>\n",
       "      <td>North</td>\n",
       "      <td>1</td>\n",
       "      <td>3</td>\n",
       "      <td>1</td>\n",
       "      <td>0</td>\n",
       "      <td>1</td>\n",
       "      <td>1.0</td>\n",
       "      <td>...</td>\n",
       "      <td>0.0</td>\n",
       "      <td>0.0</td>\n",
       "      <td>0.0</td>\n",
       "      <td>0.0</td>\n",
       "      <td>0</td>\n",
       "      <td>0.0</td>\n",
       "      <td>0</td>\n",
       "      <td>0</td>\n",
       "      <td>Male</td>\n",
       "      <td>Typical aura with migraine</td>\n",
       "    </tr>\n",
       "    <tr>\n",
       "      <th>2</th>\n",
       "      <td>41</td>\n",
       "      <td>2</td>\n",
       "      <td>3</td>\n",
       "      <td>North</td>\n",
       "      <td>1</td>\n",
       "      <td>2</td>\n",
       "      <td>1</td>\n",
       "      <td>0</td>\n",
       "      <td>1</td>\n",
       "      <td>1.0</td>\n",
       "      <td>...</td>\n",
       "      <td>0.0</td>\n",
       "      <td>0.0</td>\n",
       "      <td>0.0</td>\n",
       "      <td>0.0</td>\n",
       "      <td>0</td>\n",
       "      <td>0.0</td>\n",
       "      <td>0</td>\n",
       "      <td>0</td>\n",
       "      <td>Male</td>\n",
       "      <td>Typical aura with migraine</td>\n",
       "    </tr>\n",
       "    <tr>\n",
       "      <th>3</th>\n",
       "      <td>17</td>\n",
       "      <td>3</td>\n",
       "      <td>1</td>\n",
       "      <td>North</td>\n",
       "      <td>1</td>\n",
       "      <td>3</td>\n",
       "      <td>1</td>\n",
       "      <td>0</td>\n",
       "      <td>1</td>\n",
       "      <td>1.0</td>\n",
       "      <td>...</td>\n",
       "      <td>0.0</td>\n",
       "      <td>0.0</td>\n",
       "      <td>0.0</td>\n",
       "      <td>0.0</td>\n",
       "      <td>0</td>\n",
       "      <td>0.0</td>\n",
       "      <td>0</td>\n",
       "      <td>1</td>\n",
       "      <td>Male</td>\n",
       "      <td>Familial hemiplegic migraine</td>\n",
       "    </tr>\n",
       "    <tr>\n",
       "      <th>4</th>\n",
       "      <td>48</td>\n",
       "      <td>2</td>\n",
       "      <td>2</td>\n",
       "      <td>North</td>\n",
       "      <td>1</td>\n",
       "      <td>3</td>\n",
       "      <td>1</td>\n",
       "      <td>0</td>\n",
       "      <td>1</td>\n",
       "      <td>1.0</td>\n",
       "      <td>...</td>\n",
       "      <td>0.0</td>\n",
       "      <td>0.0</td>\n",
       "      <td>0.0</td>\n",
       "      <td>0.0</td>\n",
       "      <td>0</td>\n",
       "      <td>0.0</td>\n",
       "      <td>0</td>\n",
       "      <td>1</td>\n",
       "      <td>Male</td>\n",
       "      <td>Typical aura with migraine</td>\n",
       "    </tr>\n",
       "  </tbody>\n",
       "</table>\n",
       "<p>5 rows × 25 columns</p>\n",
       "</div>"
      ],
      "text/plain": [
       "   Age  Duration  Frequency Location  Character  Intensity  Nausea  Vomit  \\\n",
       "0   31         2          5    North          1          3       1      1   \n",
       "1   30         1          5    North          1          3       1      0   \n",
       "2   41         2          3    North          1          2       1      0   \n",
       "3   17         3          1    North          1          3       1      0   \n",
       "4   48         2          2    North          1          3       1      0   \n",
       "\n",
       "   Phonophobia  Photophobia  ...  Tinnitus  Hypoacusis  Diplopia  Defect  \\\n",
       "0            1          1.0  ...       0.0         0.0       0.0     0.0   \n",
       "1            1          1.0  ...       0.0         0.0       0.0     0.0   \n",
       "2            1          1.0  ...       0.0         0.0       0.0     0.0   \n",
       "3            1          1.0  ...       0.0         0.0       0.0     0.0   \n",
       "4            1          1.0  ...       0.0         0.0       0.0     0.0   \n",
       "\n",
       "   Ataxia  Conscience  Paresthesia  DPF  Gender                          Type  \n",
       "0       0         0.0            0    1    Male         Migraine without aura  \n",
       "1       0         0.0            0    0    Male    Typical aura with migraine  \n",
       "2       0         0.0            0    0    Male    Typical aura with migraine  \n",
       "3       0         0.0            0    1    Male  Familial hemiplegic migraine  \n",
       "4       0         0.0            0    1    Male    Typical aura with migraine  \n",
       "\n",
       "[5 rows x 25 columns]"
      ]
     },
     "execution_count": 2,
     "metadata": {},
     "output_type": "execute_result"
    }
   ],
   "source": [
    "# Importing dataSet\n",
    "data1 = pd.read_csv(r\"C:\\Users\\User-pc\\Desktop\\Final Exam\\Data Set\\Migraine.csv\")\n",
    "data1.head()"
   ]
  },
  {
   "cell_type": "markdown",
   "id": "3602765d",
   "metadata": {},
   "source": [
    "### Getting more information about data"
   ]
  },
  {
   "cell_type": "code",
   "execution_count": 3,
   "id": "b52b1a3b",
   "metadata": {},
   "outputs": [
    {
     "data": {
      "text/plain": [
       "(400, 25)"
      ]
     },
     "execution_count": 3,
     "metadata": {},
     "output_type": "execute_result"
    }
   ],
   "source": [
    "data1.shape"
   ]
  },
  {
   "cell_type": "code",
   "execution_count": 4,
   "id": "215aafcb",
   "metadata": {
    "scrolled": true
   },
   "outputs": [
    {
     "name": "stdout",
     "output_type": "stream",
     "text": [
      "<class 'pandas.core.frame.DataFrame'>\n",
      "RangeIndex: 400 entries, 0 to 399\n",
      "Data columns (total 25 columns):\n",
      " #   Column       Non-Null Count  Dtype  \n",
      "---  ------       --------------  -----  \n",
      " 0   Age          400 non-null    int64  \n",
      " 1   Duration     400 non-null    int64  \n",
      " 2   Frequency    400 non-null    int64  \n",
      " 3   Location     376 non-null    object \n",
      " 4   Character    400 non-null    int64  \n",
      " 5   Intensity    400 non-null    int64  \n",
      " 6   Nausea       400 non-null    int64  \n",
      " 7   Vomit        400 non-null    int64  \n",
      " 8   Phonophobia  400 non-null    int64  \n",
      " 9   Photophobia  388 non-null    float64\n",
      " 10  Visual       393 non-null    float64\n",
      " 11  Sensory      388 non-null    float64\n",
      " 12  Dysphasia    392 non-null    float64\n",
      " 13  Dysarthria   392 non-null    float64\n",
      " 14  Vertigo      394 non-null    float64\n",
      " 15  Tinnitus     390 non-null    float64\n",
      " 16  Hypoacusis   393 non-null    float64\n",
      " 17  Diplopia     393 non-null    float64\n",
      " 18  Defect       389 non-null    float64\n",
      " 19  Ataxia       400 non-null    int64  \n",
      " 20  Conscience   389 non-null    float64\n",
      " 21  Paresthesia  400 non-null    int64  \n",
      " 22  DPF          400 non-null    int64  \n",
      " 23  Gender       389 non-null    object \n",
      " 24  Type         400 non-null    object \n",
      "dtypes: float64(11), int64(11), object(3)\n",
      "memory usage: 78.2+ KB\n"
     ]
    }
   ],
   "source": [
    "data1.info()"
   ]
  },
  {
   "cell_type": "code",
   "execution_count": 5,
   "id": "93e34bcd",
   "metadata": {},
   "outputs": [
    {
     "data": {
      "text/plain": [
       "Age            0.0000\n",
       "Duration       0.0000\n",
       "Frequency      0.0000\n",
       "Location       0.0600\n",
       "Character      0.0000\n",
       "Intensity      0.0000\n",
       "Nausea         0.0000\n",
       "Vomit          0.0000\n",
       "Phonophobia    0.0000\n",
       "Photophobia    0.0300\n",
       "Visual         0.0175\n",
       "Sensory        0.0300\n",
       "Dysphasia      0.0200\n",
       "Dysarthria     0.0200\n",
       "Vertigo        0.0150\n",
       "Tinnitus       0.0250\n",
       "Hypoacusis     0.0175\n",
       "Diplopia       0.0175\n",
       "Defect         0.0275\n",
       "Ataxia         0.0000\n",
       "Conscience     0.0275\n",
       "Paresthesia    0.0000\n",
       "DPF            0.0000\n",
       "Gender         0.0275\n",
       "Type           0.0000\n",
       "dtype: float64"
      ]
     },
     "execution_count": 5,
     "metadata": {},
     "output_type": "execute_result"
    }
   ],
   "source": [
    "data1.isnull().sum()/len(data1)"
   ]
  },
  {
   "cell_type": "markdown",
   "id": "08b06456",
   "metadata": {},
   "source": [
    "### Dropping null values & unwanted column"
   ]
  },
  {
   "cell_type": "code",
   "execution_count": 6,
   "id": "80ecb263",
   "metadata": {},
   "outputs": [],
   "source": [
    "data1.dropna(axis=0, inplace=True)"
   ]
  },
  {
   "cell_type": "markdown",
   "id": "ac9fa803",
   "metadata": {},
   "source": [
    "### Label encoding"
   ]
  },
  {
   "cell_type": "code",
   "execution_count": 7,
   "id": "5406704c",
   "metadata": {},
   "outputs": [
    {
     "data": {
      "text/plain": [
       "North    276\n",
       "South     14\n",
       "West       7\n",
       "Name: Location, dtype: int64"
      ]
     },
     "execution_count": 7,
     "metadata": {},
     "output_type": "execute_result"
    }
   ],
   "source": [
    "data1['Location'].value_counts()"
   ]
  },
  {
   "cell_type": "code",
   "execution_count": 8,
   "id": "e36e1ce2",
   "metadata": {},
   "outputs": [],
   "source": [
    "Location = {'North':0, \n",
    "        'South':1,\n",
    "         'West':2}\n",
    "\n",
    "# apply using map\n",
    "data1['Location'] = data1['Location'].map(Location)"
   ]
  },
  {
   "cell_type": "code",
   "execution_count": 9,
   "id": "d58c5bfe",
   "metadata": {},
   "outputs": [
    {
     "data": {
      "text/plain": [
       "Male      158\n",
       "Female    139\n",
       "Name: Gender, dtype: int64"
      ]
     },
     "execution_count": 9,
     "metadata": {},
     "output_type": "execute_result"
    }
   ],
   "source": [
    "data1['Gender'].value_counts()"
   ]
  },
  {
   "cell_type": "code",
   "execution_count": 10,
   "id": "100de720",
   "metadata": {},
   "outputs": [],
   "source": [
    "Gender = {'Male':0,'Female':1}\n",
    "\n",
    "# apply using map\n",
    "data1['Gender'] = data1['Gender'].map(Gender)"
   ]
  },
  {
   "cell_type": "code",
   "execution_count": 11,
   "id": "ebe05eaa",
   "metadata": {},
   "outputs": [
    {
     "data": {
      "text/plain": [
       "Typical aura with migraine       183\n",
       "Migraine without aura             45\n",
       "Familial hemiplegic migraine      19\n",
       "Typical aura without migraine     14\n",
       "Basilar-type aura                 13\n",
       "Other                             13\n",
       "Sporadic hemiplegic migraine      10\n",
       "Name: Type, dtype: int64"
      ]
     },
     "execution_count": 11,
     "metadata": {},
     "output_type": "execute_result"
    }
   ],
   "source": [
    "data1['Type'].value_counts()"
   ]
  },
  {
   "cell_type": "code",
   "execution_count": 12,
   "id": "b9b66676",
   "metadata": {},
   "outputs": [],
   "source": [
    "Type = {'Typical aura with migraine':0,'Migraine without aura':1, 'Familial hemiplegic migraine':2,\n",
    "        'Typical aura without migraine':3, 'Other':4, 'Basilar-type aura':5, 'Sporadic hemiplegic migraine':6}\n",
    "\n",
    "# apply using map\n",
    "data1['Type'] = data1['Type'].map(Type)"
   ]
  },
  {
   "cell_type": "code",
   "execution_count": 13,
   "id": "54a51a83",
   "metadata": {},
   "outputs": [
    {
     "data": {
      "text/html": [
       "<div>\n",
       "<style scoped>\n",
       "    .dataframe tbody tr th:only-of-type {\n",
       "        vertical-align: middle;\n",
       "    }\n",
       "\n",
       "    .dataframe tbody tr th {\n",
       "        vertical-align: top;\n",
       "    }\n",
       "\n",
       "    .dataframe thead th {\n",
       "        text-align: right;\n",
       "    }\n",
       "</style>\n",
       "<table border=\"1\" class=\"dataframe\">\n",
       "  <thead>\n",
       "    <tr style=\"text-align: right;\">\n",
       "      <th></th>\n",
       "      <th>Age</th>\n",
       "      <th>Duration</th>\n",
       "      <th>Frequency</th>\n",
       "      <th>Location</th>\n",
       "      <th>Character</th>\n",
       "      <th>Intensity</th>\n",
       "      <th>Nausea</th>\n",
       "      <th>Vomit</th>\n",
       "      <th>Phonophobia</th>\n",
       "      <th>Photophobia</th>\n",
       "      <th>...</th>\n",
       "      <th>Tinnitus</th>\n",
       "      <th>Hypoacusis</th>\n",
       "      <th>Diplopia</th>\n",
       "      <th>Defect</th>\n",
       "      <th>Ataxia</th>\n",
       "      <th>Conscience</th>\n",
       "      <th>Paresthesia</th>\n",
       "      <th>DPF</th>\n",
       "      <th>Gender</th>\n",
       "      <th>Type</th>\n",
       "    </tr>\n",
       "  </thead>\n",
       "  <tbody>\n",
       "    <tr>\n",
       "      <th>0</th>\n",
       "      <td>31</td>\n",
       "      <td>2</td>\n",
       "      <td>5</td>\n",
       "      <td>0</td>\n",
       "      <td>1</td>\n",
       "      <td>3</td>\n",
       "      <td>1</td>\n",
       "      <td>1</td>\n",
       "      <td>1</td>\n",
       "      <td>1.0</td>\n",
       "      <td>...</td>\n",
       "      <td>0.0</td>\n",
       "      <td>0.0</td>\n",
       "      <td>0.0</td>\n",
       "      <td>0.0</td>\n",
       "      <td>0</td>\n",
       "      <td>0.0</td>\n",
       "      <td>0</td>\n",
       "      <td>1</td>\n",
       "      <td>0</td>\n",
       "      <td>1</td>\n",
       "    </tr>\n",
       "    <tr>\n",
       "      <th>1</th>\n",
       "      <td>30</td>\n",
       "      <td>1</td>\n",
       "      <td>5</td>\n",
       "      <td>0</td>\n",
       "      <td>1</td>\n",
       "      <td>3</td>\n",
       "      <td>1</td>\n",
       "      <td>0</td>\n",
       "      <td>1</td>\n",
       "      <td>1.0</td>\n",
       "      <td>...</td>\n",
       "      <td>0.0</td>\n",
       "      <td>0.0</td>\n",
       "      <td>0.0</td>\n",
       "      <td>0.0</td>\n",
       "      <td>0</td>\n",
       "      <td>0.0</td>\n",
       "      <td>0</td>\n",
       "      <td>0</td>\n",
       "      <td>0</td>\n",
       "      <td>0</td>\n",
       "    </tr>\n",
       "    <tr>\n",
       "      <th>2</th>\n",
       "      <td>41</td>\n",
       "      <td>2</td>\n",
       "      <td>3</td>\n",
       "      <td>0</td>\n",
       "      <td>1</td>\n",
       "      <td>2</td>\n",
       "      <td>1</td>\n",
       "      <td>0</td>\n",
       "      <td>1</td>\n",
       "      <td>1.0</td>\n",
       "      <td>...</td>\n",
       "      <td>0.0</td>\n",
       "      <td>0.0</td>\n",
       "      <td>0.0</td>\n",
       "      <td>0.0</td>\n",
       "      <td>0</td>\n",
       "      <td>0.0</td>\n",
       "      <td>0</td>\n",
       "      <td>0</td>\n",
       "      <td>0</td>\n",
       "      <td>0</td>\n",
       "    </tr>\n",
       "    <tr>\n",
       "      <th>3</th>\n",
       "      <td>17</td>\n",
       "      <td>3</td>\n",
       "      <td>1</td>\n",
       "      <td>0</td>\n",
       "      <td>1</td>\n",
       "      <td>3</td>\n",
       "      <td>1</td>\n",
       "      <td>0</td>\n",
       "      <td>1</td>\n",
       "      <td>1.0</td>\n",
       "      <td>...</td>\n",
       "      <td>0.0</td>\n",
       "      <td>0.0</td>\n",
       "      <td>0.0</td>\n",
       "      <td>0.0</td>\n",
       "      <td>0</td>\n",
       "      <td>0.0</td>\n",
       "      <td>0</td>\n",
       "      <td>1</td>\n",
       "      <td>0</td>\n",
       "      <td>2</td>\n",
       "    </tr>\n",
       "    <tr>\n",
       "      <th>5</th>\n",
       "      <td>21</td>\n",
       "      <td>1</td>\n",
       "      <td>2</td>\n",
       "      <td>0</td>\n",
       "      <td>1</td>\n",
       "      <td>2</td>\n",
       "      <td>1</td>\n",
       "      <td>1</td>\n",
       "      <td>1</td>\n",
       "      <td>1.0</td>\n",
       "      <td>...</td>\n",
       "      <td>0.0</td>\n",
       "      <td>0.0</td>\n",
       "      <td>0.0</td>\n",
       "      <td>0.0</td>\n",
       "      <td>0</td>\n",
       "      <td>0.0</td>\n",
       "      <td>0</td>\n",
       "      <td>1</td>\n",
       "      <td>0</td>\n",
       "      <td>0</td>\n",
       "    </tr>\n",
       "  </tbody>\n",
       "</table>\n",
       "<p>5 rows × 25 columns</p>\n",
       "</div>"
      ],
      "text/plain": [
       "   Age  Duration  Frequency  Location  Character  Intensity  Nausea  Vomit  \\\n",
       "0   31         2          5         0          1          3       1      1   \n",
       "1   30         1          5         0          1          3       1      0   \n",
       "2   41         2          3         0          1          2       1      0   \n",
       "3   17         3          1         0          1          3       1      0   \n",
       "5   21         1          2         0          1          2       1      1   \n",
       "\n",
       "   Phonophobia  Photophobia  ...  Tinnitus  Hypoacusis  Diplopia  Defect  \\\n",
       "0            1          1.0  ...       0.0         0.0       0.0     0.0   \n",
       "1            1          1.0  ...       0.0         0.0       0.0     0.0   \n",
       "2            1          1.0  ...       0.0         0.0       0.0     0.0   \n",
       "3            1          1.0  ...       0.0         0.0       0.0     0.0   \n",
       "5            1          1.0  ...       0.0         0.0       0.0     0.0   \n",
       "\n",
       "   Ataxia  Conscience  Paresthesia  DPF  Gender  Type  \n",
       "0       0         0.0            0    1       0     1  \n",
       "1       0         0.0            0    0       0     0  \n",
       "2       0         0.0            0    0       0     0  \n",
       "3       0         0.0            0    1       0     2  \n",
       "5       0         0.0            0    1       0     0  \n",
       "\n",
       "[5 rows x 25 columns]"
      ]
     },
     "execution_count": 13,
     "metadata": {},
     "output_type": "execute_result"
    }
   ],
   "source": [
    "data1.head()"
   ]
  },
  {
   "cell_type": "markdown",
   "id": "cc6aef04",
   "metadata": {},
   "source": [
    "### Selecting Target & Feature Variable"
   ]
  },
  {
   "cell_type": "code",
   "execution_count": 14,
   "id": "d6e7e804",
   "metadata": {},
   "outputs": [],
   "source": [
    "X = data1.iloc[:, 0:24].values \n",
    "Y = data1.iloc[:,-1].values"
   ]
  },
  {
   "cell_type": "markdown",
   "id": "aa602381",
   "metadata": {},
   "source": [
    "### Splitting the data into train & test data"
   ]
  },
  {
   "cell_type": "code",
   "execution_count": 15,
   "id": "52178a62",
   "metadata": {},
   "outputs": [],
   "source": [
    "X_train, X_test, Y_train, Y_test = train_test_split(X, Y, test_size = 0.20, random_state = 0)"
   ]
  },
  {
   "cell_type": "markdown",
   "id": "d5c5dcec",
   "metadata": {},
   "source": [
    "### Feature scaling"
   ]
  },
  {
   "cell_type": "code",
   "execution_count": 16,
   "id": "0535f94f",
   "metadata": {},
   "outputs": [],
   "source": [
    "sc = StandardScaler()\n",
    "X_train = sc.fit_transform(X_train)\n",
    "X_test = sc.transform(X_test)"
   ]
  },
  {
   "cell_type": "markdown",
   "id": "e99cb2bf",
   "metadata": {},
   "source": [
    "### Creating the model & checking the accuracy of model\n",
    "### Random Forest Classifier"
   ]
  },
  {
   "cell_type": "code",
   "execution_count": 17,
   "id": "9f3e1075",
   "metadata": {},
   "outputs": [
    {
     "name": "stdout",
     "output_type": "stream",
     "text": [
      "RandomForestClassifier(criterion='entropy', n_estimators=10, random_state=10)\n",
      "Training Accuracy: 1.0\n",
      "              precision    recall  f1-score   support\n",
      "\n",
      "           0       0.87      1.00      0.93        40\n",
      "           1       1.00      1.00      1.00         8\n",
      "           2       0.50      0.20      0.29         5\n",
      "           3       1.00      1.00      1.00         3\n",
      "           4       0.00      0.00      0.00         2\n",
      "           5       0.00      0.00      0.00         1\n",
      "           6       1.00      1.00      1.00         1\n",
      "\n",
      "    accuracy                           0.88        60\n",
      "   macro avg       0.62      0.60      0.60        60\n",
      "weighted avg       0.82      0.88      0.84        60\n",
      "\n",
      "Accuracy: 0.8833333333333333\n"
     ]
    }
   ],
   "source": [
    "forest = RandomForestClassifier(n_estimators = 10, criterion = 'entropy', random_state = 10)\n",
    "print(forest.fit(X_train, Y_train))\n",
    "print('Training Accuracy:', forest.score(X_train, Y_train))\n",
    "print( classification_report(Y_test, forest.predict(X_test)) )\n",
    "print(F'Accuracy:',accuracy_score(Y_test, forest.predict(X_test)))"
   ]
  },
  {
   "cell_type": "markdown",
   "id": "783f412d",
   "metadata": {},
   "source": [
    "### K Neighbors Classifier"
   ]
  },
  {
   "cell_type": "code",
   "execution_count": 18,
   "id": "baf308bc",
   "metadata": {},
   "outputs": [
    {
     "name": "stdout",
     "output_type": "stream",
     "text": [
      "KNeighborsClassifier(n_neighbors=15)\n",
      "Training Accuracy: 0.7932489451476793\n",
      "              precision    recall  f1-score   support\n",
      "\n",
      "           0       0.77      1.00      0.87        40\n",
      "           1       1.00      0.62      0.77         8\n",
      "           2       0.00      0.00      0.00         5\n",
      "           3       1.00      1.00      1.00         3\n",
      "           4       0.00      0.00      0.00         2\n",
      "           5       0.00      0.00      0.00         1\n",
      "           6       0.00      0.00      0.00         1\n",
      "\n",
      "    accuracy                           0.80        60\n",
      "   macro avg       0.40      0.38      0.38        60\n",
      "weighted avg       0.70      0.80      0.73        60\n",
      "\n",
      "Accuracy: 0.8\n"
     ]
    }
   ],
   "source": [
    "knn = KNeighborsClassifier(n_neighbors = 15, p = 2)\n",
    "# the value of n_neighbors is non-parametric and a general rule of thumb in choosing the value of n_neighbors is \n",
    "# n_neighbors = sqrt(N), where N stands for the number of samples in your training dataset.\n",
    "print(knn.fit(X_train, Y_train))\n",
    "print('Training Accuracy:', knn.score(X_train, Y_train))\n",
    "print( classification_report(Y_test, knn.predict(X_test)) )\n",
    "print(F'Accuracy:',accuracy_score(Y_test, knn.predict(X_test)))"
   ]
  },
  {
   "cell_type": "markdown",
   "id": "1471c5a8",
   "metadata": {},
   "source": [
    "### What is the Accuracy using Random Forest\n",
    "### What is the Accuracy using K Nearest Neighbor"
   ]
  },
  {
   "cell_type": "code",
   "execution_count": 19,
   "id": "55ed74f5",
   "metadata": {},
   "outputs": [
    {
     "data": {
      "text/html": [
       "<div>\n",
       "<style scoped>\n",
       "    .dataframe tbody tr th:only-of-type {\n",
       "        vertical-align: middle;\n",
       "    }\n",
       "\n",
       "    .dataframe tbody tr th {\n",
       "        vertical-align: top;\n",
       "    }\n",
       "\n",
       "    .dataframe thead th {\n",
       "        text-align: right;\n",
       "    }\n",
       "</style>\n",
       "<table border=\"1\" class=\"dataframe\">\n",
       "  <thead>\n",
       "    <tr style=\"text-align: right;\">\n",
       "      <th></th>\n",
       "      <th>Models</th>\n",
       "      <th>Accuracy Score</th>\n",
       "    </tr>\n",
       "  </thead>\n",
       "  <tbody>\n",
       "    <tr>\n",
       "      <th>0</th>\n",
       "      <td>Random Forest Classifier</td>\n",
       "      <td>0.88</td>\n",
       "    </tr>\n",
       "    <tr>\n",
       "      <th>1</th>\n",
       "      <td>K Neighbor Classifier</td>\n",
       "      <td>0.80</td>\n",
       "    </tr>\n",
       "  </tbody>\n",
       "</table>\n",
       "</div>"
      ],
      "text/plain": [
       "                     Models  Accuracy Score\n",
       "0  Random Forest Classifier            0.88\n",
       "1     K Neighbor Classifier            0.80"
      ]
     },
     "execution_count": 19,
     "metadata": {},
     "output_type": "execute_result"
    }
   ],
   "source": [
    "#Accuracy Score\n",
    "acc_1 = 0.88\n",
    "acc_2 = 0.8\n",
    "\n",
    "results = pd.DataFrame([[\"Random Forest Classifier\",acc_1],[\"K Neighbor Classifier\",acc_2]],\n",
    "                        columns = [\"Models\",\"Accuracy Score\"]).sort_values(by='Accuracy Score',ascending=False)\n",
    "\n",
    "\n",
    "results"
   ]
  },
  {
   "cell_type": "markdown",
   "id": "af4b5a7c",
   "metadata": {},
   "source": [
    "### Which metric should we concentrate on & why?\n",
    "- Which - \n",
    "\n",
    "We should concentrate on metric known as classification report from sklearn library.\n",
    "\n",
    "- Why?\n",
    "\n",
    "A Classification report is used to measure the quality of predictions from a classification algorithm. How many predictions are True and how many are False. More specifically, True Positives, False Positives, True negatives and False Negatives are used to predict the metrics of a classification report.\n",
    "\n",
    "Precision – What percent of your predictions were correct?\n",
    "\n",
    "Precision is the ability of a classifier not to label an instance positive that is actually negative. For each class it is defined as the ratio of true positives to the sum of true and false positives.\n",
    "\n",
    "TP – True Positives\n",
    "\n",
    "FP – False Positives\n",
    "\n",
    "Precision – Accuracy of positive predictions.\n",
    "\n",
    "Precision = TP/(TP + FP)\n",
    "\n",
    "Recall – What percent of the positive cases did you catch? \n",
    "\n",
    "Recall is the ability of a classifier to find all positive instances. For each class it is defined as the ratio of true positives to the sum of true positives and false negatives.\n",
    "\n",
    "\n",
    "FN – False Negatives\n",
    "\n",
    "\n",
    "Recall: Fraction of positives that were correctly identified.\n",
    "\n",
    "Recall = TP/(TP+FN)\n",
    "\n",
    "F1 score – What percent of positive predictions were correct? \n",
    "\n",
    "The F1 score is a weighted harmonic mean of precision and recall such that the best score is 1.0 and the worst is 0.0. Generally speaking, F1 scores are lower than accuracy measures as they embed precision and recall into their computation. As a rule of thumb, the weighted average of F1 should be used to compare classifier models, not global accuracy.\n",
    "\n",
    "\n",
    "F1 Score = 2*(Recall * Precision) / (Recall + Precision)."
   ]
  },
  {
   "cell_type": "markdown",
   "id": "7cb3a662",
   "metadata": {},
   "source": [
    "                         - - - - - - - - X X X X X X X X - - - - - - - -"
   ]
  }
 ],
 "metadata": {
  "kernelspec": {
   "display_name": "Python 3 (ipykernel)",
   "language": "python",
   "name": "python3"
  },
  "language_info": {
   "codemirror_mode": {
    "name": "ipython",
    "version": 3
   },
   "file_extension": ".py",
   "mimetype": "text/x-python",
   "name": "python",
   "nbconvert_exporter": "python",
   "pygments_lexer": "ipython3",
   "version": "3.9.13"
  }
 },
 "nbformat": 4,
 "nbformat_minor": 5
}
